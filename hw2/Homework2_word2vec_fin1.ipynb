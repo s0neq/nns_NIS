{
  "nbformat": 4,
  "nbformat_minor": 0,
  "metadata": {
    "accelerator": "GPU",
    "colab": {
      "name": "Homework2_word2vec_fin1.ipynb",
      "provenance": [],
      "collapsed_sections": []
    },
    "kernelspec": {
      "display_name": "Python 3",
      "language": "python",
      "name": "python3"
    },
    "language_info": {
      "codemirror_mode": {
        "name": "ipython",
        "version": 3
      },
      "file_extension": ".py",
      "mimetype": "text/x-python",
      "name": "python",
      "nbconvert_exporter": "python",
      "pygments_lexer": "ipython3",
      "version": "3.6.8"
    }
  },
  "cells": [
    {
      "cell_type": "code",
      "metadata": {
        "id": "VIHAmR20TQdv"
      },
      "source": [
        "import json\n",
        "import random\n",
        "from tqdm import tqdm\n",
        "import numpy as np\n",
        "\n",
        "from matplotlib import pyplot as plt\n",
        "from sklearn.decomposition import TruncatedSVD\n",
        "from sklearn.manifold import TSNE\n",
        "\n",
        "import torch\n",
        "\n",
        "from pylab import rcParams\n",
        "rcParams['figure.figsize'] = 15, 15"
      ],
      "execution_count": 1,
      "outputs": []
    },
    {
      "cell_type": "markdown",
      "metadata": {
        "id": "u8BOP1DnTQdy"
      },
      "source": [
        "# Загружаем данные\n",
        "Они уже обработанные и токенизированные. Процесс можно посмотреть в тетрадке 1.1 Processing corpus"
      ]
    },
    {
      "cell_type": "code",
      "metadata": {
        "colab": {
          "base_uri": "https://localhost:8080/"
        },
        "id": "FHv3oxnsTuoT",
        "outputId": "effde2c5-6198-42c9-ceb8-9667bac7b4a0"
      },
      "source": [
        "from google.colab import drive\n",
        "drive.mount('/content/drive/')\n"
      ],
      "execution_count": 2,
      "outputs": [
        {
          "output_type": "stream",
          "name": "stdout",
          "text": [
            "Mounted at /content/drive/\n"
          ]
        }
      ]
    },
    {
      "cell_type": "code",
      "metadata": {
        "id": "F-KXfm1zTQdz"
      },
      "source": [
        "with open('/content/drive/My Drive/processed_corpus.json') as f:\n",
        "    corpus = json.load(f)"
      ],
      "execution_count": 3,
      "outputs": []
    },
    {
      "cell_type": "code",
      "metadata": {
        "colab": {
          "base_uri": "https://localhost:8080/"
        },
        "id": "ZWuTnH9MTQd0",
        "outputId": "1b812d04-7d6e-4174-ac7b-008a315de02a"
      },
      "source": [
        "len(corpus)"
      ],
      "execution_count": 4,
      "outputs": [
        {
          "output_type": "execute_result",
          "data": {
            "text/plain": [
              "100000"
            ]
          },
          "metadata": {},
          "execution_count": 4
        }
      ]
    },
    {
      "cell_type": "code",
      "metadata": {
        "colab": {
          "base_uri": "https://localhost:8080/"
        },
        "id": "xYfmKkIPTQd1",
        "outputId": "b3b6d8da-32d6-4ec5-e38e-13ba9d42333c"
      },
      "source": [
        "for text in corpus[:5]:\n",
        "    print(' '.join(text))"
      ],
      "execution_count": null,
      "outputs": [
        {
          "name": "stdout",
          "output_type": "stream",
          "text": [
            "второй UNK год окончательно разочаровать решить податься альфабанк\n",
            "вернуть денежный средство лицевой счёт либо зачесть счёт погашение кредит\n",
            "притом ситуация решиться участие течение сутки заявить\n",
            "мой ##число летний жизнь это самый неповоротливый работник банк который видеть\n",
            "везде написать вклад принимать очередь это\n"
          ]
        }
      ]
    },
    {
      "cell_type": "markdown",
      "metadata": {
        "id": "T_dDkc7oTQd2"
      },
      "source": [
        "# CBOW"
      ]
    },
    {
      "cell_type": "markdown",
      "metadata": {
        "id": "bOEt3Z9EUk9m"
      },
      "source": [
        "по контексту - слово"
      ]
    },
    {
      "cell_type": "code",
      "metadata": {
        "id": "wOWbUlXbTQd3"
      },
      "source": [
        "sample_text = corpus[1]"
      ],
      "execution_count": null,
      "outputs": []
    },
    {
      "cell_type": "markdown",
      "metadata": {
        "id": "a369NqFyTQd4"
      },
      "source": [
        "# Реализуйте разделение предложения на примеры методом CBOW"
      ]
    },
    {
      "cell_type": "code",
      "metadata": {
        "id": "hr09LYswTQd5"
      },
      "source": [
        "def cbow_split(tokens, window, pad_token='PAD'):\n",
        "    \n",
        "    splits = []\n",
        "    \n",
        "    # CODE\n",
        "    numtok = len(tokens)\n",
        "\n",
        "    for ind in range(numtok):\n",
        "        start = ind-window\n",
        "        if start < 0: start = 0\n",
        "        firstl = tokens[start:ind]\n",
        "        lastl = tokens[ind+1:window+ind+1]\n",
        "        if ind < window:\n",
        "            first_list = [pad_token] * (window - ind)\n",
        "            first_list += firstl\n",
        "            firstl = first_list\n",
        "        end = numtok - ind - 1\n",
        "        if end < window:\n",
        "            last_list = [pad_token] * (window - end)\n",
        "            lastl += last_list\n",
        "        splits.append((firstl, tokens[ind], lastl))\n",
        "    return splits"
      ],
      "execution_count": null,
      "outputs": []
    },
    {
      "cell_type": "code",
      "metadata": {
        "colab": {
          "base_uri": "https://localhost:8080/"
        },
        "id": "s5vvJ0SiUDTw",
        "outputId": "9744deb5-bb62-4e65-841a-859d5e9d1a5f"
      },
      "source": [
        "cbow_split(sample_text, window=2)"
      ],
      "execution_count": null,
      "outputs": [
        {
          "data": {
            "text/plain": [
              "[(['PAD', 'PAD'], 'вернуть', ['денежный', 'средство']),\n",
              " (['PAD', 'вернуть'], 'денежный', ['средство', 'лицевой']),\n",
              " (['вернуть', 'денежный'], 'средство', ['лицевой', 'счёт']),\n",
              " (['денежный', 'средство'], 'лицевой', ['счёт', 'либо']),\n",
              " (['средство', 'лицевой'], 'счёт', ['либо', 'зачесть']),\n",
              " (['лицевой', 'счёт'], 'либо', ['зачесть', 'счёт']),\n",
              " (['счёт', 'либо'], 'зачесть', ['счёт', 'погашение']),\n",
              " (['либо', 'зачесть'], 'счёт', ['погашение', 'кредит']),\n",
              " (['зачесть', 'счёт'], 'погашение', ['кредит', 'PAD']),\n",
              " (['счёт', 'погашение'], 'кредит', ['PAD', 'PAD'])]"
            ]
          },
          "execution_count": 10,
          "metadata": {},
          "output_type": "execute_result"
        }
      ]
    },
    {
      "cell_type": "markdown",
      "metadata": {
        "id": "l8W0tUpPTQd9"
      },
      "source": [
        "# Skipgram"
      ]
    },
    {
      "cell_type": "markdown",
      "metadata": {
        "id": "u1mkqjRyTQd_"
      },
      "source": [
        "# Реализуйте разделение предложения на примеры методом Skipgram"
      ]
    },
    {
      "cell_type": "code",
      "metadata": {
        "id": "jGgsiDkLTQd_"
      },
      "source": [
        "def skipgram_split(tokens, window):\n",
        "    numtok = len(tokens)\n",
        "    splits = []\n",
        "    \n",
        "    # CODE\n",
        "    for ind in range(numtok):\n",
        "        y = tokens[ind]\n",
        "\n",
        "        i = 1\n",
        "        while ind-i>=0 and i <= window:\n",
        "            x_back = tokens[ind-i]\n",
        "            splits.append((x_back, y))\n",
        "            i += 1\n",
        "\n",
        "        j = 1\n",
        "        while ind+j<numtok and j <= window:\n",
        "            x_forward = tokens[ind+j]\n",
        "            splits.append((x_forward, y))\n",
        "            j += 1\n",
        "    \n",
        "    return splits"
      ],
      "execution_count": null,
      "outputs": []
    },
    {
      "cell_type": "code",
      "metadata": {
        "id": "TtUgkrVGTQd_"
      },
      "source": [
        "splits = skipgram_split(sample_text, window=2)"
      ],
      "execution_count": null,
      "outputs": []
    },
    {
      "cell_type": "code",
      "metadata": {
        "id": "Er-Rm3XkpYRB"
      },
      "source": [
        "splits"
      ],
      "execution_count": null,
      "outputs": []
    },
    {
      "cell_type": "code",
      "metadata": {
        "id": "gLdIyV3ITQeD"
      },
      "source": [
        "word2index = {}\n",
        "\n",
        "for text in corpus:\n",
        "    for token in text:\n",
        "        if token not in word2index:\n",
        "            word2index[token] = len(word2index)"
      ],
      "execution_count": 5,
      "outputs": []
    },
    {
      "cell_type": "code",
      "metadata": {
        "colab": {
          "base_uri": "https://localhost:8080/"
        },
        "id": "ayudPJgGTQeE",
        "outputId": "b1bb80eb-6cf8-4f3c-fd84-b43a72a789fd"
      },
      "source": [
        "len(word2index)"
      ],
      "execution_count": 6,
      "outputs": [
        {
          "output_type": "execute_result",
          "data": {
            "text/plain": [
              "13076"
            ]
          },
          "metadata": {},
          "execution_count": 6
        }
      ]
    },
    {
      "cell_type": "code",
      "metadata": {
        "colab": {
          "base_uri": "https://localhost:8080/"
        },
        "id": "bcQNCoHWTQeE",
        "outputId": "bf6cfcc0-d64b-447d-96d8-0773fe47f7ff"
      },
      "source": [
        "word2index['UNK']"
      ],
      "execution_count": null,
      "outputs": [
        {
          "data": {
            "text/plain": [
              "1"
            ]
          },
          "execution_count": 18,
          "metadata": {},
          "output_type": "execute_result"
        }
      ]
    },
    {
      "cell_type": "code",
      "metadata": {
        "colab": {
          "base_uri": "https://localhost:8080/"
        },
        "id": "Mfr_X43JTQeF",
        "outputId": "d4b9d532-003b-4d67-e7b5-eb1c39662a06"
      },
      "source": [
        "[word2index[tok] if tok in word2index else word2index['UNK'] for tok in 'мама мыть рама'.split()]"
      ],
      "execution_count": null,
      "outputs": [
        {
          "data": {
            "text/plain": [
              "[1282, 8436, 1]"
            ]
          },
          "execution_count": 19,
          "metadata": {},
          "output_type": "execute_result"
        }
      ]
    },
    {
      "cell_type": "markdown",
      "metadata": {
        "id": "-TsUN-epTQeF"
      },
      "source": [
        "# Torch Dataset\n",
        "В торче есть очень удобная читалка данных"
      ]
    },
    {
      "cell_type": "code",
      "metadata": {
        "id": "w4d2CRFxTQeG"
      },
      "source": [
        "from torch.utils.data import Dataset, DataLoader"
      ],
      "execution_count": 8,
      "outputs": []
    },
    {
      "cell_type": "markdown",
      "metadata": {
        "id": "yMRXaD10TQeb"
      },
      "source": [
        "# Мы будем учить модель Skipgram\n",
        "Реализуйте читалку данных"
      ]
    },
    {
      "cell_type": "code",
      "metadata": {
        "id": "UhY_FJpKTQec"
      },
      "source": [
        "class SkipgramDataset(Dataset):\n",
        "\n",
        "    def __init__(self,\n",
        "                 corpus,\n",
        "                 word2index,\n",
        "                 window=2,\n",
        "                 unk_token='UNK',\n",
        "                 collect_verbose=True):\n",
        "        # CODE\n",
        "        self.corpus = corpus\n",
        "        self.word2index = word2index\n",
        "        self.window = window\n",
        "\n",
        "        self.unk_token = unk_token\n",
        "        self.unk_index = self.word2index[self.unk_token]\n",
        "\n",
        "        self.collect_verbose = collect_verbose\n",
        "\n",
        "        self.data = []\n",
        "\n",
        "        self.collect_data()\n",
        "\n",
        "    def __len__(self):\n",
        "\n",
        "        return len(self.data)\n",
        "\n",
        "    def _split_function(self, tokens):\n",
        "        \n",
        "        # CODE\n",
        "\n",
        "        splits = []\n",
        "        numtok = len(tokens)\n",
        "        for ind in range(numtok):\n",
        "            y = tokens[ind]\n",
        "\n",
        "            i = 1\n",
        "            while ind-i>=0 and i <= self.window:\n",
        "                x_back = tokens[ind-i]\n",
        "                splits.append((x_back, y))\n",
        "                i += 1\n",
        "\n",
        "            j = 1\n",
        "            while ind+j<numtok and j <= self.window:\n",
        "                x_forward = tokens[ind+j]\n",
        "                splits.append((x_forward, y))\n",
        "                j += 1\n",
        "\n",
        "        return splits\n",
        "\n",
        "    def indexing(self, tokenized_text):\n",
        "\n",
        "        return [self.word2index[token] if token in self.word2index else self.unk_index for token in tokenized_text]\n",
        "\n",
        "    def collect_data(self):\n",
        "\n",
        "        corpus = tqdm(self.corpus, disable=not self.collect_verbose)\n",
        "\n",
        "        for tokenized_text in corpus:\n",
        "            indexed_text = self.indexing(tokenized_text)\n",
        "            skipgram_examples = self._split_function(indexed_text)\n",
        "\n",
        "            self.data.extend(skipgram_examples)\n",
        "\n",
        "    def __getitem__(self, idx):\n",
        "        \n",
        "        # CODE\n",
        "        context, central_word = self.data[idx]\n",
        "        \n",
        "        return context, central_word"
      ],
      "execution_count": 9,
      "outputs": []
    },
    {
      "cell_type": "code",
      "metadata": {
        "colab": {
          "base_uri": "https://localhost:8080/"
        },
        "id": "iQaxkLORTQec",
        "scrolled": true,
        "outputId": "66c3a591-19cb-4732-b3ef-5e1831ec2a17"
      },
      "source": [
        "dataset = SkipgramDataset(corpus, word2index)"
      ],
      "execution_count": 10,
      "outputs": [
        {
          "output_type": "stream",
          "name": "stderr",
          "text": [
            "100%|██████████| 100000/100000 [00:02<00:00, 43594.49it/s]\n"
          ]
        }
      ]
    },
    {
      "cell_type": "code",
      "metadata": {
        "id": "Gg0nt-EYTQed"
      },
      "source": [
        "BATCH_SIZE = 512"
      ],
      "execution_count": 15,
      "outputs": []
    },
    {
      "cell_type": "code",
      "metadata": {
        "id": "ArVmIiN7TQed"
      },
      "source": [
        "dataset_loader = DataLoader(dataset, shuffle=True, batch_size=BATCH_SIZE)"
      ],
      "execution_count": 16,
      "outputs": []
    },
    {
      "cell_type": "code",
      "metadata": {
        "colab": {
          "base_uri": "https://localhost:8080/"
        },
        "id": "5i7N2X3AS2B7",
        "outputId": "e5144140-c861-4f50-b945-01fb90bacd34"
      },
      "source": [
        "len(dataset_loader) # number of batches"
      ],
      "execution_count": 17,
      "outputs": [
        {
          "output_type": "execute_result",
          "data": {
            "text/plain": [
              "5827"
            ]
          },
          "metadata": {},
          "execution_count": 17
        }
      ]
    },
    {
      "cell_type": "code",
      "metadata": {
        "id": "poZ-_c0R2Hkx"
      },
      "source": [
        "for x, y in dataset_loader:\n",
        "  break"
      ],
      "execution_count": 18,
      "outputs": []
    },
    {
      "cell_type": "code",
      "metadata": {
        "colab": {
          "base_uri": "https://localhost:8080/"
        },
        "id": "FEeoLFD2TQee",
        "outputId": "f290f64f-0370-4a2a-b89e-8de91038750a"
      },
      "source": [
        "x.shape, y.shape"
      ],
      "execution_count": 19,
      "outputs": [
        {
          "output_type": "execute_result",
          "data": {
            "text/plain": [
              "(torch.Size([512]), torch.Size([512]))"
            ]
          },
          "metadata": {},
          "execution_count": 19
        }
      ]
    },
    {
      "cell_type": "markdown",
      "metadata": {
        "id": "9Xg8Lwp4TQef"
      },
      "source": [
        "# Мы будем учить модель Skipgram\n",
        "Реализуйте ее"
      ]
    },
    {
      "cell_type": "code",
      "metadata": {
        "id": "Lf4s9Y44TQef"
      },
      "source": [
        "# CODE\n",
        "class SkipGram(torch.nn.Module):\n",
        "    \n",
        "    def __init__(self, vocab_size, embedding_dim):\n",
        "        \n",
        "        super().__init__()\n",
        "        \n",
        "        self.in_embedding = torch.nn.Embedding(num_embeddings=vocab_size, \n",
        "                                               embedding_dim=embedding_dim)\n",
        "        \n",
        "        self.out_embedding = torch.nn.Linear(in_features=embedding_dim,\n",
        "                                             out_features=vocab_size, bias=False)\n",
        "        \n",
        "    \n",
        "    def forward(self, x):\n",
        "        \n",
        "        x = self.in_embedding(x)\n",
        "        x = self.out_embedding(x)\n",
        "        \n",
        "        return x"
      ],
      "execution_count": 13,
      "outputs": []
    },
    {
      "cell_type": "code",
      "metadata": {
        "id": "mJ5wLTOITQeg"
      },
      "source": [
        "# размерность эмбеддинга\n",
        "# маленькая, чтобы мы могли недолго поучить ворд2век и увидеть результаты\n",
        "EMBEDDING_DIM = 20"
      ],
      "execution_count": 20,
      "outputs": []
    },
    {
      "cell_type": "code",
      "metadata": {
        "id": "Ted1TKJFTQeg"
      },
      "source": [
        "model = SkipGram(vocab_size=len(word2index), embedding_dim=EMBEDDING_DIM)"
      ],
      "execution_count": 21,
      "outputs": []
    },
    {
      "cell_type": "code",
      "metadata": {
        "colab": {
          "base_uri": "https://localhost:8080/"
        },
        "id": "AkpaXJXkTQeg",
        "outputId": "4cfed903-465f-4331-c39c-9c8003cb040d"
      },
      "source": [
        "with torch.no_grad():\n",
        "    pred = model(x)\n",
        "\n",
        "pred.shape"
      ],
      "execution_count": null,
      "outputs": [
        {
          "data": {
            "text/plain": [
              "torch.Size([512, 13076])"
            ]
          },
          "execution_count": 34,
          "metadata": {},
          "output_type": "execute_result"
        }
      ]
    },
    {
      "cell_type": "code",
      "metadata": {
        "colab": {
          "base_uri": "https://localhost:8080/"
        },
        "id": "TBllwev-gYCB",
        "outputId": "3f2e7107-5816-484b-fe0c-4a623e6ad0f1"
      },
      "source": [
        "x.shape"
      ],
      "execution_count": null,
      "outputs": [
        {
          "data": {
            "text/plain": [
              "torch.Size([512])"
            ]
          },
          "execution_count": 35,
          "metadata": {},
          "output_type": "execute_result"
        }
      ]
    },
    {
      "cell_type": "markdown",
      "metadata": {
        "id": "rqyaC1EGTQeh"
      },
      "source": [
        "# Допишите обучалку"
      ]
    },
    {
      "cell_type": "code",
      "metadata": {
        "colab": {
          "base_uri": "https://localhost:8080/"
        },
        "id": "XJuPdeEhyOBS",
        "outputId": "11f59212-005c-4aa8-e91e-08f9982032d2"
      },
      "source": [
        "DEVICE = torch.device('cuda') if torch.cuda.is_available() else torch.device('cpu')\n",
        "DEVICE"
      ],
      "execution_count": 11,
      "outputs": [
        {
          "output_type": "execute_result",
          "data": {
            "text/plain": [
              "device(type='cuda')"
            ]
          },
          "metadata": {},
          "execution_count": 11
        }
      ]
    },
    {
      "cell_type": "code",
      "metadata": {
        "colab": {
          "base_uri": "https://localhost:8080/"
        },
        "id": "WZOs06FUTQeh",
        "outputId": "321b72aa-792b-4fbe-da29-b24a54e9aa0d"
      },
      "source": [
        "epochs = 3\n",
        "EMBEDDING_DIM = 20\n",
        "losses = []\n",
        "\n",
        "\n",
        "model = SkipGram(vocab_size=len(word2index), embedding_dim=EMBEDDING_DIM).to(DEVICE)\n",
        "optimizer = torch.optim.Adam(params=model.parameters(), lr=0.0001)\n",
        "criterion = torch.nn.CrossEntropyLoss().to(DEVICE) # CODE\n",
        "\n",
        "for n_epoch in range(epochs):\n",
        "    try:\n",
        "        progress_bar = tqdm(total=len(dataset_loader.dataset), desc='Epoch {}'.format(n_epoch + 1))\n",
        "        \n",
        "        for x, y in dataset_loader:\n",
        "            x = x.to(DEVICE)\n",
        "            y = y.to(DEVICE)\n",
        "            \n",
        "            preds = model(x) #прогоняем данные через модель\n",
        "\n",
        "            loss = criterion(preds, y) #считаем значение функции потерь  \n",
        "            \n",
        "            loss.backward() #считаем градиенты \n",
        "            optimizer.step() #обновляем веса \n",
        "            \n",
        "            # CODE\n",
        "            \n",
        "            losses.append(loss.item())\n",
        "            \n",
        "            progress_bar.set_postfix(loss=np.mean(losses[-100:]))\n",
        "\n",
        "            progress_bar.update(x.shape[0])\n",
        "\n",
        "        progress_bar.close()\n",
        "\n",
        "    except KeyboardInterrupt:\n",
        "\n",
        "        progress_bar.close()\n",
        "        break"
      ],
      "execution_count": 22,
      "outputs": [
        {
          "output_type": "stream",
          "name": "stderr",
          "text": [
            "Epoch 1: 100%|██████████| 2983124/2983124 [00:55<00:00, 53854.09it/s, loss=7.37]\n",
            "Epoch 2: 100%|██████████| 2983124/2983124 [00:55<00:00, 54069.86it/s, loss=7.27]\n",
            "Epoch 3: 100%|██████████| 2983124/2983124 [00:54<00:00, 54322.70it/s, loss=7.11]\n"
          ]
        }
      ]
    },
    {
      "cell_type": "code",
      "metadata": {
        "colab": {
          "base_uri": "https://localhost:8080/",
          "height": 312
        },
        "id": "OFusMkrzTQeh",
        "outputId": "d41d9001-bf44-4a58-dd28-00651dac3a46"
      },
      "source": [
        "plt.title('SkipGram Training Process')\n",
        "plt.xlabel('Itearations')\n",
        "plt.ylabel('Loss')\n",
        "plt.grid()\n",
        "plt.plot(losses)"
      ],
      "execution_count": 23,
      "outputs": [
        {
          "output_type": "execute_result",
          "data": {
            "text/plain": [
              "[<matplotlib.lines.Line2D at 0x7f41a39a0550>]"
            ]
          },
          "metadata": {},
          "execution_count": 23
        },
        {
          "output_type": "display_data",
          "data": {
            "image/png": "[encoded data removed]",
            "text/plain": [
              "<Figure size 432x288 with 1 Axes>"
            ]
          },
          "metadata": {
            "needs_background": "light"
          }
        }
      ]
    },
    {
      "cell_type": "code",
      "metadata": {
        "id": "caKm7_RyTQei"
      },
      "source": [
        "# проверка, что хоть что-то выучилось\n",
        "assert np.mean(losses[-1000:]) < 7.5"
      ],
      "execution_count": 24,
      "outputs": []
    },
    {
      "cell_type": "code",
      "metadata": {
        "id": "K0P9H-KGTQei"
      },
      "source": [
        "embedding_matrix = model.in_embedding.weight.detach()"
      ],
      "execution_count": 25,
      "outputs": []
    },
    {
      "cell_type": "code",
      "metadata": {
        "id": "G7anR_b-TQei"
      },
      "source": [
        "def cos_sim(embedding_matrix, token2id, word1, word2):\n",
        "    # CODE\n",
        "    # добавила exceptы для подсчета близости по корпусу для оценки\n",
        "    try:\n",
        "        i1 = token2id[word1]\n",
        "    except:\n",
        "        word1 = \"UNK\"\n",
        "        i1 = token2id[word1]\n",
        "    \n",
        "    try:\n",
        "        i2 = token2id[word2]\n",
        "    except:\n",
        "        word2 = \"UNK\"\n",
        "        i2 = token2id[word2]\n",
        "\n",
        "    \n",
        "    v1, v2 = embedding_matrix[i1], embedding_matrix[i2]\n",
        "    \n",
        "    v1_n = v1.div(v1.norm(keepdim=True))\n",
        "    v2_n = v2.div(v2.norm(keepdim=True))\n",
        "    \n",
        "    similarity = torch.dot(v1_n, v2_n).item()\n",
        "    \n",
        "    return similarity"
      ],
      "execution_count": 26,
      "outputs": []
    },
    {
      "cell_type": "markdown",
      "metadata": {
        "id": "akgZ-SdWTQei"
      },
      "source": [
        "# Косинусная близость\n",
        "От 0 до 1, где 0 - вектора абсолютно разные, где 1 - идентичные.\n",
        "\n",
        "на самом деле она для эмбеддингов может быть и отрицательная то есть в итоге от -1 до 1"
      ]
    },
    {
      "cell_type": "code",
      "metadata": {
        "colab": {
          "base_uri": "https://localhost:8080/"
        },
        "id": "JY_RQvt0TQei",
        "outputId": "491d0609-a0de-497d-a41a-974228ee96bf"
      },
      "source": [
        "cos_sim(embedding_matrix, word2index, 'день', 'месяц')"
      ],
      "execution_count": 27,
      "outputs": [
        {
          "output_type": "execute_result",
          "data": {
            "text/plain": [
              "0.7892816662788391"
            ]
          },
          "metadata": {},
          "execution_count": 27
        }
      ]
    },
    {
      "cell_type": "code",
      "metadata": {
        "colab": {
          "base_uri": "https://localhost:8080/"
        },
        "id": "kMsIV7zQTQej",
        "outputId": "22c0234b-4165-4d5d-c818-203a7d47cbc3"
      },
      "source": [
        "cos_sim(embedding_matrix, word2index, 'минута', 'месяц')"
      ],
      "execution_count": 28,
      "outputs": [
        {
          "output_type": "execute_result",
          "data": {
            "text/plain": [
              "0.5934417843818665"
            ]
          },
          "metadata": {},
          "execution_count": 28
        }
      ]
    },
    {
      "cell_type": "code",
      "metadata": {
        "colab": {
          "base_uri": "https://localhost:8080/"
        },
        "id": "krvVDkt1TQej",
        "outputId": "4af70550-6333-4f62-e401-5dc3723bbeb7"
      },
      "source": [
        "cos_sim(embedding_matrix, word2index, 'сотрудник', 'сотрудница')"
      ],
      "execution_count": 29,
      "outputs": [
        {
          "output_type": "execute_result",
          "data": {
            "text/plain": [
              "0.41577595472335815"
            ]
          },
          "metadata": {},
          "execution_count": 29
        }
      ]
    },
    {
      "cell_type": "code",
      "metadata": {
        "colab": {
          "base_uri": "https://localhost:8080/"
        },
        "id": "9LsYdVdCTQej",
        "outputId": "80898119-5ef6-445e-8f0c-d9181fbbe8bf"
      },
      "source": [
        "cos_sim(embedding_matrix, word2index, 'вклад', 'перевод')"
      ],
      "execution_count": 30,
      "outputs": [
        {
          "output_type": "execute_result",
          "data": {
            "text/plain": [
              "0.671994149684906"
            ]
          },
          "metadata": {},
          "execution_count": 30
        }
      ]
    },
    {
      "cell_type": "code",
      "metadata": {
        "colab": {
          "base_uri": "https://localhost:8080/",
          "height": 37
        },
        "id": "QrRe_XanTQek",
        "outputId": "47aeab23-9bcc-4d3d-a49c-82f415fec5f9"
      },
      "source": [
        "random_word = random.choice(list(word2index.keys()))\n",
        "sim = cos_sim(embedding_matrix, word2index, 'день', random_word)\n",
        "'Косинусная близость слова \"день\" к случайному выбраному слову \"{}\" равна {:.3f}'.format(random_word, sim)"
      ],
      "execution_count": null,
      "outputs": [
        {
          "data": {
            "application/vnd.google.colaboratory.intrinsic+json": {
              "type": "string"
            },
            "text/plain": [
              "'Косинусная близость слова \"день\" к случайному выбраному слову \"мвд\" равна 0.517'"
            ]
          },
          "execution_count": 87,
          "metadata": {},
          "output_type": "execute_result"
        }
      ]
    },
    {
      "cell_type": "code",
      "metadata": {
        "id": "5dGfR7fOTQek"
      },
      "source": [
        "freq = {}\n",
        "\n",
        "for text in corpus:\n",
        "    for token in text:\n",
        "        if token in freq:\n",
        "            freq[token] += 1\n",
        "        else:\n",
        "            freq[token] = 1"
      ],
      "execution_count": null,
      "outputs": []
    },
    {
      "cell_type": "code",
      "metadata": {
        "id": "HYa4DZ2TTQek"
      },
      "source": [
        "sorted_freq = [(k, freq[k]) for k in sorted(freq, key=freq.get, reverse=True)]\n",
        "top_sorted_freq = sorted_freq[0:200]"
      ],
      "execution_count": null,
      "outputs": []
    },
    {
      "cell_type": "code",
      "metadata": {
        "colab": {
          "base_uri": "https://localhost:8080/"
        },
        "id": "_cctFHcKTQel",
        "outputId": "cbd461a8-0ae9-44f7-f3f8-5011522c3bf8"
      },
      "source": [
        "tsne = TSNE(n_components=2, init='pca', random_state=42, verbose=2)\n",
        "reduced = tsne.fit_transform(embedding_matrix.cpu())"
      ],
      "execution_count": null,
      "outputs": [
        {
          "name": "stderr",
          "output_type": "stream",
          "text": [
            "/usr/local/lib/python3.7/dist-packages/sklearn/manifold/_t_sne.py:793: FutureWarning: The default learning rate in TSNE will change from 200.0 to 'auto' in 1.2.\n",
            "  FutureWarning,\n"
          ]
        },
        {
          "name": "stdout",
          "output_type": "stream",
          "text": [
            "[t-SNE] Computing 91 nearest neighbors...\n",
            "[t-SNE] Indexed 13076 samples in 0.001s...\n",
            "[t-SNE] Computed neighbors for 13076 samples in 3.805s...\n",
            "[t-SNE] Computed conditional probabilities for sample 1000 / 13076\n",
            "[t-SNE] Computed conditional probabilities for sample 2000 / 13076\n",
            "[t-SNE] Computed conditional probabilities for sample 3000 / 13076\n",
            "[t-SNE] Computed conditional probabilities for sample 4000 / 13076\n",
            "[t-SNE] Computed conditional probabilities for sample 5000 / 13076\n",
            "[t-SNE] Computed conditional probabilities for sample 6000 / 13076\n",
            "[t-SNE] Computed conditional probabilities for sample 7000 / 13076\n",
            "[t-SNE] Computed conditional probabilities for sample 8000 / 13076\n",
            "[t-SNE] Computed conditional probabilities for sample 9000 / 13076\n",
            "[t-SNE] Computed conditional probabilities for sample 10000 / 13076\n",
            "[t-SNE] Computed conditional probabilities for sample 11000 / 13076\n",
            "[t-SNE] Computed conditional probabilities for sample 12000 / 13076\n",
            "[t-SNE] Computed conditional probabilities for sample 13000 / 13076\n",
            "[t-SNE] Computed conditional probabilities for sample 13076 / 13076\n",
            "[t-SNE] Mean sigma: 1.062634\n",
            "[t-SNE] Computed conditional probabilities in 0.600s\n"
          ]
        },
        {
          "name": "stderr",
          "output_type": "stream",
          "text": [
            "/usr/local/lib/python3.7/dist-packages/sklearn/manifold/_t_sne.py:986: FutureWarning: The PCA initialization in TSNE will change to have the standard deviation of PC1 equal to 1e-4 in 1.2. This will ensure better convergence.\n",
            "  FutureWarning,\n"
          ]
        },
        {
          "name": "stdout",
          "output_type": "stream",
          "text": [
            "[t-SNE] Iteration 50: error = 96.8800812, gradient norm = 0.0001001 (50 iterations in 13.322s)\n",
            "[t-SNE] Iteration 100: error = 96.8968277, gradient norm = 0.0000208 (50 iterations in 16.288s)\n",
            "[t-SNE] Iteration 150: error = 96.8965836, gradient norm = 0.0000089 (50 iterations in 13.862s)\n",
            "[t-SNE] Iteration 200: error = 96.8965454, gradient norm = 0.0000090 (50 iterations in 9.456s)\n",
            "[t-SNE] Iteration 250: error = 96.8966293, gradient norm = 0.0000121 (50 iterations in 6.922s)\n",
            "[t-SNE] KL divergence after 250 iterations with early exaggeration: 96.896629\n",
            "[t-SNE] Iteration 300: error = 4.3998461, gradient norm = 0.0015262 (50 iterations in 10.070s)\n",
            "[t-SNE] Iteration 350: error = 4.0823355, gradient norm = 0.0005546 (50 iterations in 7.665s)\n",
            "[t-SNE] Iteration 400: error = 3.9345298, gradient norm = 0.0003300 (50 iterations in 7.058s)\n",
            "[t-SNE] Iteration 450: error = 3.8466458, gradient norm = 0.0002239 (50 iterations in 6.883s)\n",
            "[t-SNE] Iteration 500: error = 3.7860625, gradient norm = 0.0001660 (50 iterations in 6.766s)\n",
            "[t-SNE] Iteration 550: error = 3.7397227, gradient norm = 0.0001282 (50 iterations in 6.720s)\n",
            "[t-SNE] Iteration 600: error = 3.7030492, gradient norm = 0.0001064 (50 iterations in 6.665s)\n",
            "[t-SNE] Iteration 650: error = 3.6730011, gradient norm = 0.0000894 (50 iterations in 6.674s)\n",
            "[t-SNE] Iteration 700: error = 3.6480613, gradient norm = 0.0000795 (50 iterations in 6.627s)\n",
            "[t-SNE] Iteration 750: error = 3.6270089, gradient norm = 0.0000685 (50 iterations in 6.642s)\n",
            "[t-SNE] Iteration 800: error = 3.6091640, gradient norm = 0.0000614 (50 iterations in 6.607s)\n",
            "[t-SNE] Iteration 850: error = 3.5940351, gradient norm = 0.0000546 (50 iterations in 6.529s)\n",
            "[t-SNE] Iteration 900: error = 3.5812211, gradient norm = 0.0000528 (50 iterations in 6.576s)\n",
            "[t-SNE] Iteration 950: error = 3.5703213, gradient norm = 0.0000487 (50 iterations in 6.616s)\n",
            "[t-SNE] Iteration 1000: error = 3.5611219, gradient norm = 0.0000456 (50 iterations in 6.682s)\n",
            "[t-SNE] KL divergence after 1000 iterations: 3.561122\n"
          ]
        }
      ]
    },
    {
      "cell_type": "code",
      "metadata": {
        "id": "YznoZmAlTQel"
      },
      "source": [
        "top_words = [a for a,_ in top_sorted_freq]"
      ],
      "execution_count": null,
      "outputs": []
    },
    {
      "cell_type": "code",
      "metadata": {
        "id": "A91PVLmgTQel"
      },
      "source": [
        "inds = [word2index[word] for word in top_words]\n",
        "x_coords = [coords[0] for coords in reduced[inds]]\n",
        "y_coords = [coords[1] for coords in reduced[inds]]"
      ],
      "execution_count": null,
      "outputs": []
    },
    {
      "cell_type": "code",
      "metadata": {
        "colab": {
          "base_uri": "https://localhost:8080/",
          "height": 864
        },
        "id": "tmTWjexzTQel",
        "outputId": "03030015-6f59-4414-b22b-db42b162298d"
      },
      "source": [
        "for (x, y, word) in zip(x_coords, y_coords, top_words):\n",
        "    plt.scatter(x, y, marker='.', color='blue')\n",
        "    plt.text(x, y, word, fontsize=9)\n",
        "plt.show()"
      ],
      "execution_count": null,
      "outputs": [
        {
          "data": {
            "image/png": "[encoded data removed]",
            "text/plain": [
              "<Figure size 1080x1080 with 1 Axes>"
            ]
          },
          "metadata": {
            "needs_background": "light"
          },
          "output_type": "display_data"
        }
      ]
    },
    {
      "cell_type": "markdown",
      "metadata": {
        "id": "mf6cAr8Z9BVC"
      },
      "source": [
        "### корпус для оценки качества эмбеддингов"
      ]
    },
    {
      "cell_type": "code",
      "metadata": {
        "id": "XdjVCTFZ-15a"
      },
      "source": [
        "import pandas as pd"
      ],
      "execution_count": 36,
      "outputs": []
    },
    {
      "cell_type": "code",
      "metadata": {
        "id": "scHXbz3N9Zgn"
      },
      "source": [
        "test_corp = pd.read_csv('https://rusvectores.org/static/testsets/ru_simlex965_tagged.tsv', sep='\\t')"
      ],
      "execution_count": 37,
      "outputs": []
    },
    {
      "cell_type": "code",
      "metadata": {
        "colab": {
          "base_uri": "https://localhost:8080/"
        },
        "id": "mzkDefCL-5yY",
        "outputId": "9b86b746-3efb-423d-8364-26db9250f81d"
      },
      "source": [
        "test_corp.info()"
      ],
      "execution_count": 38,
      "outputs": [
        {
          "output_type": "stream",
          "name": "stdout",
          "text": [
            "<class 'pandas.core.frame.DataFrame'>\n",
            "RangeIndex: 965 entries, 0 to 964\n",
            "Data columns (total 3 columns):\n",
            " #   Column         Non-Null Count  Dtype  \n",
            "---  ------         --------------  -----  \n",
            " 0   # Word1        965 non-null    object \n",
            " 1   Word2          965 non-null    object \n",
            " 2   Average Score  965 non-null    float64\n",
            "dtypes: float64(1), object(2)\n",
            "memory usage: 22.7+ KB\n"
          ]
        }
      ]
    },
    {
      "cell_type": "code",
      "metadata": {
        "colab": {
          "base_uri": "https://localhost:8080/",
          "height": 204
        },
        "id": "2mA-vwhY_TEw",
        "outputId": "e813bf37-5c45-4c2f-8e99-61355080a39d"
      },
      "source": [
        "test_corp.head()"
      ],
      "execution_count": 39,
      "outputs": [
        {
          "output_type": "execute_result",
          "data": {
            "text/html": [
              "<div>\n",
              "<style scoped>\n",
              "    .dataframe tbody tr th:only-of-type {\n",
              "        vertical-align: middle;\n",
              "    }\n",
              "\n",
              "    .dataframe tbody tr th {\n",
              "        vertical-align: top;\n",
              "    }\n",
              "\n",
              "    .dataframe thead th {\n",
              "        text-align: right;\n",
              "    }\n",
              "</style>\n",
              "<table border=\"1\" class=\"dataframe\">\n",
              "  <thead>\n",
              "    <tr style=\"text-align: right;\">\n",
              "      <th></th>\n",
              "      <th># Word1</th>\n",
              "      <th>Word2</th>\n",
              "      <th>Average Score</th>\n",
              "    </tr>\n",
              "  </thead>\n",
              "  <tbody>\n",
              "    <tr>\n",
              "      <th>0</th>\n",
              "      <td>авария_NOUN</td>\n",
              "      <td>бедствие_NOUN</td>\n",
              "      <td>6.15</td>\n",
              "    </tr>\n",
              "    <tr>\n",
              "      <th>1</th>\n",
              "      <td>август_NOUN</td>\n",
              "      <td>месяц_NOUN</td>\n",
              "      <td>2.85</td>\n",
              "    </tr>\n",
              "    <tr>\n",
              "      <th>2</th>\n",
              "      <td>авиация_NOUN</td>\n",
              "      <td>полет_NOUN</td>\n",
              "      <td>6.77</td>\n",
              "    </tr>\n",
              "    <tr>\n",
              "      <th>3</th>\n",
              "      <td>автомобиль_NOUN</td>\n",
              "      <td>гудок_NOUN</td>\n",
              "      <td>1.85</td>\n",
              "    </tr>\n",
              "    <tr>\n",
              "      <th>4</th>\n",
              "      <td>автомобиль_NOUN</td>\n",
              "      <td>автострада_NOUN</td>\n",
              "      <td>1.23</td>\n",
              "    </tr>\n",
              "  </tbody>\n",
              "</table>\n",
              "</div>"
            ],
            "text/plain": [
              "           # Word1            Word2  Average Score\n",
              "0      авария_NOUN    бедствие_NOUN           6.15\n",
              "1      август_NOUN       месяц_NOUN           2.85\n",
              "2     авиация_NOUN       полет_NOUN           6.77\n",
              "3  автомобиль_NOUN       гудок_NOUN           1.85\n",
              "4  автомобиль_NOUN  автострада_NOUN           1.23"
            ]
          },
          "metadata": {},
          "execution_count": 39
        }
      ]
    },
    {
      "cell_type": "markdown",
      "metadata": {
        "id": "YOs-cHAZMJ7U"
      },
      "source": [
        "убираю pos"
      ]
    },
    {
      "cell_type": "code",
      "metadata": {
        "colab": {
          "base_uri": "https://localhost:8080/",
          "height": 204
        },
        "id": "laSwizXfI92X",
        "outputId": "e8757b27-dd96-47f9-c5d7-74a4e350d15e"
      },
      "source": [
        "test_corp[\"# Word1\"] = test_corp[\"# Word1\"].str.split(\"_\", n = 1, expand = True)[0]\n",
        "test_corp[\"Word2\"] = test_corp[\"Word2\"].str.split(\"_\", n = 1, expand = True)[0]\n",
        "test_corp.head()"
      ],
      "execution_count": 40,
      "outputs": [
        {
          "output_type": "execute_result",
          "data": {
            "text/html": [
              "<div>\n",
              "<style scoped>\n",
              "    .dataframe tbody tr th:only-of-type {\n",
              "        vertical-align: middle;\n",
              "    }\n",
              "\n",
              "    .dataframe tbody tr th {\n",
              "        vertical-align: top;\n",
              "    }\n",
              "\n",
              "    .dataframe thead th {\n",
              "        text-align: right;\n",
              "    }\n",
              "</style>\n",
              "<table border=\"1\" class=\"dataframe\">\n",
              "  <thead>\n",
              "    <tr style=\"text-align: right;\">\n",
              "      <th></th>\n",
              "      <th># Word1</th>\n",
              "      <th>Word2</th>\n",
              "      <th>Average Score</th>\n",
              "    </tr>\n",
              "  </thead>\n",
              "  <tbody>\n",
              "    <tr>\n",
              "      <th>0</th>\n",
              "      <td>авария</td>\n",
              "      <td>бедствие</td>\n",
              "      <td>6.15</td>\n",
              "    </tr>\n",
              "    <tr>\n",
              "      <th>1</th>\n",
              "      <td>август</td>\n",
              "      <td>месяц</td>\n",
              "      <td>2.85</td>\n",
              "    </tr>\n",
              "    <tr>\n",
              "      <th>2</th>\n",
              "      <td>авиация</td>\n",
              "      <td>полет</td>\n",
              "      <td>6.77</td>\n",
              "    </tr>\n",
              "    <tr>\n",
              "      <th>3</th>\n",
              "      <td>автомобиль</td>\n",
              "      <td>гудок</td>\n",
              "      <td>1.85</td>\n",
              "    </tr>\n",
              "    <tr>\n",
              "      <th>4</th>\n",
              "      <td>автомобиль</td>\n",
              "      <td>автострада</td>\n",
              "      <td>1.23</td>\n",
              "    </tr>\n",
              "  </tbody>\n",
              "</table>\n",
              "</div>"
            ],
            "text/plain": [
              "      # Word1       Word2  Average Score\n",
              "0      авария    бедствие           6.15\n",
              "1      август       месяц           2.85\n",
              "2     авиация       полет           6.77\n",
              "3  автомобиль       гудок           1.85\n",
              "4  автомобиль  автострада           1.23"
            ]
          },
          "metadata": {},
          "execution_count": 40
        }
      ]
    },
    {
      "cell_type": "code",
      "metadata": {
        "id": "uo38EN1pEtuQ"
      },
      "source": [
        "def get_cos(row):\n",
        "      return cos_sim(embedding_matrix, word2index, row[\"# Word1\"], row[\"Word2\"])"
      ],
      "execution_count": 41,
      "outputs": []
    },
    {
      "cell_type": "code",
      "metadata": {
        "id": "Lwgq3oXDEFAj"
      },
      "source": [
        "test_corp[\"my_embed\"] = test_corp.apply(lambda x: get_cos(x), axis=1)"
      ],
      "execution_count": null,
      "outputs": []
    },
    {
      "cell_type": "code",
      "metadata": {
        "colab": {
          "base_uri": "https://localhost:8080/",
          "height": 204
        },
        "id": "wlWwmVt8Gvr0",
        "outputId": "66e60363-d2db-4ef1-93f4-f5d61a5f1866"
      },
      "source": [
        "test_corp.head()"
      ],
      "execution_count": null,
      "outputs": [
        {
          "data": {
            "text/html": [
              "<div>\n",
              "<style scoped>\n",
              "    .dataframe tbody tr th:only-of-type {\n",
              "        vertical-align: middle;\n",
              "    }\n",
              "\n",
              "    .dataframe tbody tr th {\n",
              "        vertical-align: top;\n",
              "    }\n",
              "\n",
              "    .dataframe thead th {\n",
              "        text-align: right;\n",
              "    }\n",
              "</style>\n",
              "<table border=\"1\" class=\"dataframe\">\n",
              "  <thead>\n",
              "    <tr style=\"text-align: right;\">\n",
              "      <th></th>\n",
              "      <th># Word1</th>\n",
              "      <th>Word2</th>\n",
              "      <th>Average Score</th>\n",
              "      <th>my_embed</th>\n",
              "    </tr>\n",
              "  </thead>\n",
              "  <tbody>\n",
              "    <tr>\n",
              "      <th>0</th>\n",
              "      <td>авария</td>\n",
              "      <td>бедствие</td>\n",
              "      <td>6.15</td>\n",
              "      <td>0.617345</td>\n",
              "    </tr>\n",
              "    <tr>\n",
              "      <th>1</th>\n",
              "      <td>август</td>\n",
              "      <td>месяц</td>\n",
              "      <td>2.85</td>\n",
              "      <td>0.560760</td>\n",
              "    </tr>\n",
              "    <tr>\n",
              "      <th>2</th>\n",
              "      <td>авиация</td>\n",
              "      <td>полет</td>\n",
              "      <td>6.77</td>\n",
              "      <td>1.000000</td>\n",
              "    </tr>\n",
              "    <tr>\n",
              "      <th>3</th>\n",
              "      <td>автомобиль</td>\n",
              "      <td>гудок</td>\n",
              "      <td>1.85</td>\n",
              "      <td>0.335222</td>\n",
              "    </tr>\n",
              "    <tr>\n",
              "      <th>4</th>\n",
              "      <td>автомобиль</td>\n",
              "      <td>автострада</td>\n",
              "      <td>1.23</td>\n",
              "      <td>0.613986</td>\n",
              "    </tr>\n",
              "  </tbody>\n",
              "</table>\n",
              "</div>"
            ],
            "text/plain": [
              "      # Word1       Word2  Average Score  my_embed\n",
              "0      авария    бедствие           6.15  0.617345\n",
              "1      август       месяц           2.85  0.560760\n",
              "2     авиация       полет           6.77  1.000000\n",
              "3  автомобиль       гудок           1.85  0.335222\n",
              "4  автомобиль  автострада           1.23  0.613986"
            ]
          },
          "execution_count": 173,
          "metadata": {},
          "output_type": "execute_result"
        }
      ]
    },
    {
      "cell_type": "markdown",
      "metadata": {
        "id": "sJij-FLLMNpA"
      },
      "source": [
        "нормализация Average Score из датасета к отрезку от 0 до 1"
      ]
    },
    {
      "cell_type": "code",
      "metadata": {
        "id": "RiBOchLVB0rz"
      },
      "source": [
        "from sklearn import preprocessing"
      ],
      "execution_count": 42,
      "outputs": []
    },
    {
      "cell_type": "code",
      "metadata": {
        "id": "yGgWiffrBc4_"
      },
      "source": [
        "scores = np.array(test_corp[\"Average Score\"])"
      ],
      "execution_count": 43,
      "outputs": []
    },
    {
      "cell_type": "code",
      "metadata": {
        "colab": {
          "base_uri": "https://localhost:8080/"
        },
        "id": "M3mWm-qoClzy",
        "outputId": "5df50f4d-751d-40b6-aa3c-b7c612cfa92c"
      },
      "source": [
        "scores.shape"
      ],
      "execution_count": 44,
      "outputs": [
        {
          "output_type": "execute_result",
          "data": {
            "text/plain": [
              "(965,)"
            ]
          },
          "metadata": {},
          "execution_count": 44
        }
      ]
    },
    {
      "cell_type": "code",
      "metadata": {
        "id": "caRHgYgaC8E2"
      },
      "source": [
        "min_max_scaler = preprocessing.MinMaxScaler(feature_range=(-1, 1))"
      ],
      "execution_count": 45,
      "outputs": []
    },
    {
      "cell_type": "code",
      "metadata": {
        "id": "SAbN_gJAAS8B"
      },
      "source": [
        "test_scores = min_max_scaler.fit_transform(scores.reshape(-1, 1)).squeeze()"
      ],
      "execution_count": 46,
      "outputs": []
    },
    {
      "cell_type": "code",
      "metadata": {
        "colab": {
          "base_uri": "https://localhost:8080/"
        },
        "id": "GWS1n7YbDEJQ",
        "outputId": "a13a9f76-486b-40b1-b657-47e56076f74c"
      },
      "source": [
        "test_scores.shape"
      ],
      "execution_count": 47,
      "outputs": [
        {
          "output_type": "execute_result",
          "data": {
            "text/plain": [
              "(965,)"
            ]
          },
          "metadata": {},
          "execution_count": 47
        }
      ]
    },
    {
      "cell_type": "markdown",
      "metadata": {
        "id": "AcXcAqwnMdQl"
      },
      "source": [
        "mse между косинусными расстояниями по моим эмбеддингам и средними скорами из датасета для сравнения"
      ]
    },
    {
      "cell_type": "code",
      "metadata": {
        "colab": {
          "base_uri": "https://localhost:8080/"
        },
        "id": "h7uFJ0oOK_6j",
        "outputId": "0063560d-263e-4e0b-f8f5-31e403264c05"
      },
      "source": [
        "test_scores[:5]"
      ],
      "execution_count": null,
      "outputs": [
        {
          "data": {
            "text/plain": [
              "array([ 0.23 , -0.43 ,  0.354, -0.63 , -0.754])"
            ]
          },
          "execution_count": 196,
          "metadata": {},
          "output_type": "execute_result"
        }
      ]
    },
    {
      "cell_type": "code",
      "metadata": {
        "colab": {
          "base_uri": "https://localhost:8080/",
          "height": 80
        },
        "id": "E-J1VXSeLCSR",
        "outputId": "e0f060b7-f4b5-496b-ab42-433bb7229d0e"
      },
      "source": [
        "test_corp[test_corp[\"my_embed\"]<0] # есть отрицательные"
      ],
      "execution_count": null,
      "outputs": [
        {
          "data": {
            "text/html": [
              "<div>\n",
              "<style scoped>\n",
              "    .dataframe tbody tr th:only-of-type {\n",
              "        vertical-align: middle;\n",
              "    }\n",
              "\n",
              "    .dataframe tbody tr th {\n",
              "        vertical-align: top;\n",
              "    }\n",
              "\n",
              "    .dataframe thead th {\n",
              "        text-align: right;\n",
              "    }\n",
              "</style>\n",
              "<table border=\"1\" class=\"dataframe\">\n",
              "  <thead>\n",
              "    <tr style=\"text-align: right;\">\n",
              "      <th></th>\n",
              "      <th># Word1</th>\n",
              "      <th>Word2</th>\n",
              "      <th>Average Score</th>\n",
              "      <th>my_embed</th>\n",
              "    </tr>\n",
              "  </thead>\n",
              "  <tbody>\n",
              "    <tr>\n",
              "      <th>180</th>\n",
              "      <td>дискуссия</td>\n",
              "      <td>спор</td>\n",
              "      <td>8.69</td>\n",
              "      <td>-0.021841</td>\n",
              "    </tr>\n",
              "  </tbody>\n",
              "</table>\n",
              "</div>"
            ],
            "text/plain": [
              "       # Word1 Word2  Average Score  my_embed\n",
              "180  дискуссия  спор           8.69 -0.021841"
            ]
          },
          "execution_count": 198,
          "metadata": {},
          "output_type": "execute_result"
        }
      ]
    },
    {
      "cell_type": "code",
      "metadata": {
        "id": "Bh9F0Es4_8U4"
      },
      "source": [
        "from sklearn.metrics import mean_squared_error\n",
        "mse = mean_squared_error(test_scores, test_corp[\"my_embed\"])"
      ],
      "execution_count": null,
      "outputs": []
    },
    {
      "cell_type": "code",
      "metadata": {
        "colab": {
          "base_uri": "https://localhost:8080/"
        },
        "id": "6Sash05BK8T1",
        "outputId": "07d5cdec-54f1-49b0-cdfb-4777af469159"
      },
      "source": [
        "mse"
      ],
      "execution_count": null,
      "outputs": [
        {
          "data": {
            "text/plain": [
              "1.0867730509110645"
            ]
          },
          "execution_count": 200,
          "metadata": {},
          "output_type": "execute_result"
        }
      ]
    },
    {
      "cell_type": "markdown",
      "metadata": {
        "id": "5Nqxbq26NPb7"
      },
      "source": [
        "## эксперименты"
      ]
    },
    {
      "cell_type": "markdown",
      "metadata": {
        "id": "jOk9cNMkVxeG"
      },
      "source": [
        "1 увеличить EMBEDDING_DIM до стандартного 300"
      ]
    },
    {
      "cell_type": "code",
      "metadata": {
        "colab": {
          "base_uri": "https://localhost:8080/"
        },
        "id": "oFqDFAagWm8U",
        "outputId": "482accf9-8381-4045-a8e3-33d986787f9e"
      },
      "source": [
        "DEVICE = torch.device('cuda') if torch.cuda.is_available() else torch.device('cpu')\n",
        "DEVICE"
      ],
      "execution_count": null,
      "outputs": [
        {
          "data": {
            "text/plain": [
              "device(type='cuda')"
            ]
          },
          "execution_count": 301,
          "metadata": {},
          "output_type": "execute_result"
        }
      ]
    },
    {
      "cell_type": "code",
      "metadata": {
        "colab": {
          "base_uri": "https://localhost:8080/"
        },
        "id": "b95nvBNwWm8d",
        "outputId": "148bc4ba-36aa-4fe0-d1cb-fa6fc1671f60"
      },
      "source": [
        "epochs = 3\n",
        "EMBEDDING_DIM = 300\n",
        "losses = []\n",
        "\n",
        "model = SkipGram(vocab_size=len(word2index), embedding_dim=EMBEDDING_DIM).to(DEVICE)\n",
        "optimizer = torch.optim.Adam(params=model.parameters(), lr=0.0001)\n",
        "criterion = torch.nn.CrossEntropyLoss().to(DEVICE)\n",
        "\n",
        "for n_epoch in range(epochs):\n",
        "    try:\n",
        "        progress_bar = tqdm(total=len(dataset_loader.dataset), desc='Epoch {}'.format(n_epoch + 1))\n",
        "        for x, y in dataset_loader:\n",
        "            x = x.to(DEVICE)\n",
        "            y = y.to(DEVICE)\n",
        "            preds = model(x) #прогоняем данные через модель\n",
        "\n",
        "            loss = criterion(preds, y) #считаем значение функции потерь  \n",
        "            \n",
        "            loss.backward() #считаем градиенты \n",
        "            optimizer.step() #обновляем веса \n",
        "            \n",
        "            losses.append(loss.item())\n",
        "            \n",
        "            progress_bar.set_postfix(loss=np.mean(losses[-100:]))\n",
        "\n",
        "            progress_bar.update(x.shape[0])\n",
        "\n",
        "        progress_bar.close()\n",
        "\n",
        "    except KeyboardInterrupt:\n",
        "\n",
        "        progress_bar.close()\n",
        "        break"
      ],
      "execution_count": 32,
      "outputs": [
        {
          "output_type": "stream",
          "name": "stderr",
          "text": [
            "Epoch 1: 100%|██████████| 2983124/2983124 [01:42<00:00, 29042.84it/s, loss=8.35]\n",
            "Epoch 2: 100%|██████████| 2983124/2983124 [01:42<00:00, 29047.90it/s, loss=8.07]\n",
            "Epoch 3: 100%|██████████| 2983124/2983124 [01:42<00:00, 28975.17it/s, loss=8.23]\n"
          ]
        }
      ]
    },
    {
      "cell_type": "code",
      "metadata": {
        "id": "9hdeRF7pY69x"
      },
      "source": [
        ""
      ],
      "execution_count": null,
      "outputs": []
    },
    {
      "cell_type": "code",
      "metadata": {
        "id": "jIk8Xe5CZWHj"
      },
      "source": [
        "embedding_matrix = model.in_embedding.weight.detach()"
      ],
      "execution_count": 33,
      "outputs": []
    },
    {
      "cell_type": "code",
      "metadata": {
        "id": "rNeqvHSvY4fo"
      },
      "source": [
        "test_corp[\"my_embed300\"] = test_corp.apply(lambda x: get_cos(x), axis=1)"
      ],
      "execution_count": 48,
      "outputs": []
    },
    {
      "cell_type": "code",
      "metadata": {
        "colab": {
          "base_uri": "https://localhost:8080/"
        },
        "id": "oq3Qfz8JY_WQ",
        "outputId": "547ef840-e0be-4a5b-b92c-e153f965dd0a"
      },
      "source": [
        "from sklearn.metrics import mean_squared_error\n",
        "mse = mean_squared_error(test_scores, test_corp[\"my_embed300\"])\n",
        "mse"
      ],
      "execution_count": 49,
      "outputs": [
        {
          "output_type": "execute_result",
          "data": {
            "text/plain": [
              "0.7080696995447677"
            ]
          },
          "metadata": {},
          "execution_count": 49
        }
      ]
    },
    {
      "cell_type": "markdown",
      "metadata": {
        "id": "kM69FypEaHFe"
      },
      "source": [
        "mse улучшилось!"
      ]
    },
    {
      "cell_type": "markdown",
      "metadata": {
        "id": "eQaDm2V2V81a"
      },
      "source": [
        "### Skipgram with Negative Sampling "
      ]
    },
    {
      "cell_type": "markdown",
      "metadata": {
        "id": "ogaDmA_FNb6d"
      },
      "source": [
        "попробую написать негативное семплирование"
      ]
    },
    {
      "cell_type": "markdown",
      "metadata": {
        "id": "4IRGX5qlaMQ7"
      },
      "source": [
        "отрубилось gpu :(\n",
        "\n",
        "так что тут только половина"
      ]
    },
    {
      "cell_type": "markdown",
      "metadata": {
        "id": "hYacH8nAU_6w"
      },
      "source": [
        "Unigram Model"
      ]
    },
    {
      "cell_type": "code",
      "metadata": {
        "id": "eqZ8xVoNNOp0"
      },
      "source": [
        "from collections import defaultdict\n",
        "\n",
        "wordFreq = defaultdict(int)\n",
        "\n",
        "for document in corpus:\n",
        "    for word in document:\n",
        "        wordFreq[word] += 1"
      ],
      "execution_count": 50,
      "outputs": []
    },
    {
      "cell_type": "markdown",
      "metadata": {
        "id": "6QameVV2VPgF"
      },
      "source": [
        "frequencies to probabilities"
      ]
    },
    {
      "cell_type": "code",
      "metadata": {
        "colab": {
          "base_uri": "https://localhost:8080/"
        },
        "id": "aPyzzXxoVWFy",
        "outputId": "389a4bfd-a618-4681-f604-3e894f916777"
      },
      "source": [
        "totalWordsFreq = sum([freq for freq in wordFreq.values()])\n",
        "print(totalWordsFreq)\n",
        "wordProb = {word:(freq/totalWordsFreq) for word, freq in wordFreq.items()}"
      ],
      "execution_count": 51,
      "outputs": [
        {
          "output_type": "stream",
          "name": "stdout",
          "text": [
            "895780\n"
          ]
        }
      ]
    },
    {
      "cell_type": "code",
      "metadata": {
        "colab": {
          "base_uri": "https://localhost:8080/"
        },
        "id": "zZx-lPA6Z2uC",
        "outputId": "c1a3f0c0-f260-472a-e96c-238003d1909e"
      },
      "source": [
        "len(wordProb)"
      ],
      "execution_count": 52,
      "outputs": [
        {
          "output_type": "execute_result",
          "data": {
            "text/plain": [
              "13076"
            ]
          },
          "metadata": {},
          "execution_count": 52
        }
      ]
    },
    {
      "cell_type": "code",
      "metadata": {
        "colab": {
          "base_uri": "https://localhost:8080/"
        },
        "id": "1lDsHMZ9Zlho",
        "outputId": "99aa1cb7-e228-46e7-bf0e-8bdc884f3e4f"
      },
      "source": [
        "\n",
        "als = 0\n",
        "for key in wordProb:\n",
        "  als += wordProb[key]\n",
        "print(als)"
      ],
      "execution_count": null,
      "outputs": [
        {
          "name": "stdout",
          "output_type": "stream",
          "text": [
            "1.0000000000000493\n"
          ]
        }
      ]
    },
    {
      "cell_type": "markdown",
      "metadata": {
        "id": "6pkh-iy6YU2m"
      },
      "source": [
        "добавить негативные примеры"
      ]
    },
    {
      "cell_type": "markdown",
      "metadata": {
        "id": "NkuL6ITZc3lC"
      },
      "source": [
        "new dataset class"
      ]
    },
    {
      "cell_type": "code",
      "metadata": {
        "id": "SHNT6QZUc2_t"
      },
      "source": [
        "class SkipgramNegSamplingDataset(Dataset):\n",
        "\n",
        "    def __init__(self,\n",
        "                 corpus,\n",
        "                 word2index,\n",
        "                 window=2,\n",
        "                 unk_token='UNK',\n",
        "                 collect_verbose=True):\n",
        "        # CODE\n",
        "        self.corpus = corpus\n",
        "        self.word2index = word2index\n",
        "        self.window = window\n",
        "\n",
        "        self.unk_token = unk_token\n",
        "        self.unk_index = self.word2index[self.unk_token]\n",
        "\n",
        "        self.collect_verbose = collect_verbose\n",
        "\n",
        "        self.data = []\n",
        "\n",
        "        self.collect_data()\n",
        "\n",
        "    def __len__(self):\n",
        "\n",
        "        return len(self.data)\n",
        "\n",
        "    def _split_function(self, tokens):\n",
        "        splits = []\n",
        "        numtok = len(tokens)\n",
        "        for ind in range(numtok):\n",
        "            y = tokens[ind]\n",
        "\n",
        "            i = 1\n",
        "            while ind-i>=0 and i <= self.window:\n",
        "                x_back = tokens[ind-i]\n",
        "                splits.append((x_back, y)) \n",
        "                i += 1\n",
        "\n",
        "            j = 1\n",
        "            while ind+j<numtok and j <= self.window:\n",
        "                x_forward = tokens[ind+j]\n",
        "                splits.append((x_forward, y))\n",
        "                j += 1\n",
        "\n",
        "        return splits\n",
        "    \n",
        "    def generate_negative_sample(self):  \n",
        "        raz, dvaz = [np.random.choice(list(self.word2index.values()), size=len(self.data)*10) for _ in range(2)]\n",
        "        return zip(raz, dvaz)\n",
        "\n",
        "    def indexing(self, tokenized_text):\n",
        "\n",
        "        return [self.word2index[token] if token in self.word2index else self.unk_index for token in tokenized_text]\n",
        "\n",
        "    def collect_data(self):\n",
        "\n",
        "        corpus = tqdm(self.corpus, disable=not self.collect_verbose)\n",
        "\n",
        "        for tokenized_text in corpus:\n",
        "            indexed_text = self.indexing(tokenized_text)\n",
        "            skipgram_examples = self._split_function(indexed_text)\n",
        "            self.data.extend(skipgram_examples)\n",
        "        \n",
        "        negative = set()\n",
        "        n_neg = 0\n",
        "\n",
        "        pbar = tqdm(total = len(self.data)+1)\n",
        "        while n_neg < len(self.data):\n",
        "            new_neg = set(self.data) - set(self.generate_negative_sample())\n",
        "            n_neg += len(new_neg)\n",
        "            negative |= new_neg\n",
        "            pbar.update(len(new_neg))\n",
        "        \n",
        "        res = set(zip(self.data, np.ones(len(self.data), dtype=int)))\n",
        "        res |= set(zip(negative, np.zeros(len(negative), dtype=int)))\n",
        "        \n",
        "        self.data = list(res)\n",
        "        pbar.close()\n",
        "\n",
        "    def __getitem__(self, idx):\n",
        "        \n",
        "        # CODE\n",
        "        context_and_word, prob = self.data[idx]\n",
        "        x = torch.LongTensor([context_and_word])\n",
        "        return x, prob"
      ],
      "execution_count": null,
      "outputs": []
    },
    {
      "cell_type": "code",
      "metadata": {
        "colab": {
          "base_uri": "https://localhost:8080/"
        },
        "id": "9pTJuVQshH-J",
        "scrolled": true,
        "outputId": "6cbd4c56-83ef-4c73-e247-c40ad7080645"
      },
      "source": [
        "dataset_with_neg = SkipgramNegSamplingDataset(corpus, word2index, wordProb)"
      ],
      "execution_count": null,
      "outputs": [
        {
          "name": "stderr",
          "output_type": "stream",
          "text": [
            "\n",
            "\n",
            "  0%|          | 0/100000 [00:00<?, ?it/s]\u001b[A\u001b[A\n",
            "\n",
            "  4%|▍         | 4210/100000 [00:00<00:02, 42096.33it/s]\u001b[A\u001b[A\n",
            "\n",
            "  8%|▊         | 8420/100000 [00:00<00:02, 41245.55it/s]\u001b[A\u001b[A\n",
            "\n",
            " 13%|█▎        | 12546/100000 [00:00<00:02, 40047.14it/s]\u001b[A\u001b[A\n",
            "\n",
            " 17%|█▋        | 16555/100000 [00:00<00:02, 39919.22it/s]\u001b[A\u001b[A\n",
            "\n",
            " 21%|██        | 20557/100000 [00:00<00:01, 39949.99it/s]\u001b[A\u001b[A\n",
            "\n",
            " 25%|██▍       | 24554/100000 [00:00<00:01, 39837.00it/s]\u001b[A\u001b[A\n",
            "\n",
            " 29%|██▊       | 28539/100000 [00:00<00:01, 38938.56it/s]\u001b[A\u001b[A\n",
            "\n",
            " 32%|███▏      | 32437/100000 [00:00<00:01, 37245.66it/s]\u001b[A\u001b[A\n",
            "\n",
            " 36%|███▌      | 36176/100000 [00:00<00:01, 37107.30it/s]\u001b[A\u001b[A\n",
            "\n",
            " 40%|████      | 40106/100000 [00:01<00:01, 37757.71it/s]\u001b[A\u001b[A\n",
            "\n",
            " 44%|████▍     | 43891/100000 [00:01<00:01, 37718.17it/s]\u001b[A\u001b[A\n",
            "\n",
            " 48%|████▊     | 47843/100000 [00:01<00:01, 38255.09it/s]\u001b[A\u001b[A\n",
            "\n",
            " 52%|█████▏    | 51674/100000 [00:01<00:01, 37664.97it/s]\u001b[A\u001b[A\n",
            "\n",
            " 56%|█████▌    | 55903/100000 [00:01<00:01, 39031.78it/s]\u001b[A\u001b[A\n",
            "\n",
            " 60%|█████▉    | 59813/100000 [00:01<00:01, 37092.33it/s]\u001b[A\u001b[A\n",
            "\n",
            " 64%|██████▍   | 63808/100000 [00:01<00:00, 37911.18it/s]\u001b[A\u001b[A\n",
            "\n",
            " 68%|██████▊   | 67717/100000 [00:01<00:00, 38251.10it/s]\u001b[A\u001b[A\n",
            "\n",
            " 72%|███████▏  | 71557/100000 [00:01<00:00, 36432.66it/s]\u001b[A\u001b[A\n",
            "\n",
            " 75%|███████▌  | 75465/100000 [00:01<00:00, 37186.34it/s]\u001b[A\u001b[A\n",
            "\n",
            " 79%|███████▉  | 79438/100000 [00:02<00:00, 37919.82it/s]\u001b[A\u001b[A\n",
            "\n",
            " 83%|████████▎ | 83470/100000 [00:02<00:00, 38619.36it/s]\u001b[A\u001b[A\n",
            "\n",
            " 88%|████████▊ | 87653/100000 [00:02<00:00, 39564.92it/s]\u001b[A\u001b[A\n",
            "\n",
            " 92%|█████████▏| 91622/100000 [00:02<00:00, 38968.68it/s]\u001b[A\u001b[A\n",
            "\n",
            " 96%|█████████▌| 95529/100000 [00:02<00:00, 37900.15it/s]\u001b[A\u001b[A\n",
            "\n",
            "100%|██████████| 100000/100000 [00:02<00:00, 38090.52it/s]\n",
            "\n",
            "\n",
            "  0%|          | 0/2983125 [00:00<?, ?it/s]\u001b[A\u001b[A\n",
            "\n",
            " 31%|███▏      | 935248/2983125 [00:49<01:47, 19084.12it/s]\u001b[A\u001b[A\n",
            "\n",
            " 31%|███▏      | 935248/2983125 [01:06<01:47, 19084.12it/s]\u001b[A\u001b[A\n",
            "\n",
            " 63%|██████▎   | 1870375/2983125 [01:38<00:58, 19030.70it/s]\u001b[A\u001b[A\n",
            "\n",
            " 94%|█████████▍| 2805411/2983125 [02:28<00:09, 18892.84it/s]\u001b[A\u001b[A\n",
            "\n",
            " 94%|█████████▍| 2805411/2983125 [02:28<00:09, 18892.84it/s]\u001b[A\u001b[A\n",
            "\n",
            "3740452it [03:19, 18690.51it/s]                             \u001b[A\u001b[A\n",
            "\n",
            "3740452it [03:22, 18506.83it/s]\n"
          ]
        }
      ]
    },
    {
      "cell_type": "code",
      "metadata": {
        "id": "_3s_KpPehH-L"
      },
      "source": [
        "BATCH_SIZE = 512"
      ],
      "execution_count": null,
      "outputs": []
    },
    {
      "cell_type": "code",
      "metadata": {
        "id": "Q90drfoUhH-L"
      },
      "source": [
        "dataset_loader_with_neg = DataLoader(dataset_with_neg, shuffle=True, batch_size=BATCH_SIZE)"
      ],
      "execution_count": null,
      "outputs": []
    },
    {
      "cell_type": "code",
      "metadata": {
        "id": "VB_q5H06hH-M"
      },
      "source": [
        "for x, y in dataset_loader_with_neg:\n",
        "  break"
      ],
      "execution_count": null,
      "outputs": []
    },
    {
      "cell_type": "code",
      "metadata": {
        "colab": {
          "base_uri": "https://localhost:8080/"
        },
        "id": "zUh53gf3hH-N",
        "outputId": "c26ca6a3-f075-4542-ead6-b7fb7e71e7eb"
      },
      "source": [
        "x[:5]"
      ],
      "execution_count": null,
      "outputs": [
        {
          "data": {
            "text/plain": [
              "tensor([[[  45, 1198]],\n",
              "\n",
              "        [[3810,  721]],\n",
              "\n",
              "        [[ 892,  399]],\n",
              "\n",
              "        [[1068,  854]],\n",
              "\n",
              "        [[  60, 8324]]])"
            ]
          },
          "execution_count": 277,
          "metadata": {},
          "output_type": "execute_result"
        }
      ]
    },
    {
      "cell_type": "code",
      "metadata": {
        "colab": {
          "base_uri": "https://localhost:8080/"
        },
        "id": "GOm-UlbfhH-N",
        "outputId": "573ac8ba-e556-45da-adaf-d6b50044e488"
      },
      "source": [
        "y[:5]"
      ],
      "execution_count": null,
      "outputs": [
        {
          "data": {
            "text/plain": [
              "tensor([0, 0, 0, 1, 0])"
            ]
          },
          "execution_count": 278,
          "metadata": {},
          "output_type": "execute_result"
        }
      ]
    },
    {
      "cell_type": "code",
      "metadata": {
        "colab": {
          "base_uri": "https://localhost:8080/"
        },
        "id": "qwLXaX_71tAA",
        "outputId": "882ded5d-e0b4-404a-e153-22ee473243e3"
      },
      "source": [
        "x.shape"
      ],
      "execution_count": null,
      "outputs": [
        {
          "data": {
            "text/plain": [
              "torch.Size([512, 1, 2])"
            ]
          },
          "execution_count": 279,
          "metadata": {},
          "output_type": "execute_result"
        }
      ]
    },
    {
      "cell_type": "code",
      "metadata": {
        "colab": {
          "base_uri": "https://localhost:8080/"
        },
        "id": "J6AlYP6p1zHB",
        "outputId": "0a594b36-22f0-44f7-c4b6-6cf8e06dcf2c"
      },
      "source": [
        "x[:5].squeeze()# .shape"
      ],
      "execution_count": null,
      "outputs": [
        {
          "data": {
            "text/plain": [
              "tensor([[  45, 1198],\n",
              "        [3810,  721],\n",
              "        [ 892,  399],\n",
              "        [1068,  854],\n",
              "        [  60, 8324]])"
            ]
          },
          "execution_count": 282,
          "metadata": {},
          "output_type": "execute_result"
        }
      ]
    },
    {
      "cell_type": "markdown",
      "metadata": {
        "collapsed": false,
        "id": "jxJJ-ZvLTQem"
      },
      "source": [
        "# Оценка\n",
        "1. Вы добрались сюда и все работает, значит уже получили 7 баллов.\n",
        "2. 8 баллов - Взяли корпус для оценка качества эмбеддингов [здесь](https://rusvectores.org/static/testsets/ru_simlex965_tagged.tsv). Описание к нему [здесь](https://arxiv.org/pdf/1801.06407.pdf). Его английская версия для понимания, того что же это такое [тут](https://fh295.github.io/simlex.html). Если в кратце - он похож а гугл аналогии, просто иначе составлен. Определили качество своих эмбеддингов. Как качество измерить? Можете все значения отнормировать (привести к 1) и затем считать MSE между тем что у вас и что в оригинале.\n",
        "3. 9 баллов - Поставили эксперименты, поменяли любые параметры, хоть корпус увеличили или как то почистили. Показали метрики до и после. После должно быть лучше, иначе это все еще 8 баллов.\n",
        "4. 10 баллов - удивили своим подходом (или просто удивили) пока делили на 9 баллов"
      ]
    },
    {
      "cell_type": "code",
      "metadata": {
        "id": "ME9ERgLETQem",
        "pycharm": {
          "name": "#%%\n"
        }
      },
      "source": [
        ""
      ],
      "execution_count": null,
      "outputs": []
    },
    {
      "cell_type": "code",
      "metadata": {
        "id": "IIhzyuOtXhur"
      },
      "source": [
        ""
      ],
      "execution_count": null,
      "outputs": []
    }
  ]
}